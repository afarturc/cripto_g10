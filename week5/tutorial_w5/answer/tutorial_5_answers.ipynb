{
 "cells": [
  {
   "cell_type": "markdown",
   "id": "f27633c1",
   "metadata": {},
   "source": [
    "# Applied Criptography - Laboratory 5\n",
    "\n",
    "## Question 1\n",
    "\n",
    "The hash given in the class is: **4748dfe624d759009e3486fd062cd21dcf1858be435ea51c7ec7b4e53f52e02e**\n",
    "\n",
    "We will hash the file with the following command:\n",
    "\n",
    "```\n",
    "openssl sha256 slides_w3.pdf\n",
    "```\n",
    "\n",
    "The output given was: **SHA2-256(slides_w5.pdf)= 4748dfe624d759009e3486fd062cd21dcf1858be435ea51c7ec7b4e53f52e02e**\n",
    "\n",
    "In fact, it was returned the same hash.\n",
    "\n",
    "### Question 1.1\n",
    "\n",
    "It can be concluded that the integrity of the file hasn't been affected at all. The file has not been modified in any possible way.\n",
    "\n",
    "### Question 1.2\n",
    "\n",
    "Assuming it is asked, how many bytes **of the hash** will be affected with this change, the answer would be all of them. Every byte (or at least the most of them) are expected to change, giving an absolutely different output.\n",
    "\n",
    "Let's prove this.\n",
    "\n",
    "It's been changed 4 bytes of the file with help of the **Hex Editor** VSCode Extension by Microsoft.\n",
    "\n",
    "```\n",
    "openssl sha256 answer/slides_w5_modified.pdf \n",
    "```\n",
    "\n",
    "The output given was: **SHA2-256(answer/slides_w5_modified.pdf)= 3eb92ec478789b68d623f7e7915a7eb3abb84487bcf7edf822b237c18ba0e3bb**\n",
    "We can appreciate that it is absolutely different.\n",
    "\n",
    "## Question 2\n",
    "\n",
    "### Question 2.1\n",
    "\n",
    "The answers are in the **crack_hash.py** file, below the *Exercise 1* comment as intended by the assignment.\n",
    "\n",
    "### Question 2.2\n",
    "\n",
    "To do this analysis, I first need to calculate the time it would actually need (in average) for each interaction when trying to find the respective hash.\n",
    "\n",
    "Let's use the sane function I implemented for answering question 2.1, but just with some timers to see how much it lasts.\n",
    "\n",
    "Let's first see how much is the rate for calculating hashes per second that my machine has for **SHA256** particularly."
   ]
  },
  {
   "cell_type": "code",
   "execution_count": 18,
   "id": "6b0891b9",
   "metadata": {},
   "outputs": [
    {
     "name": "stdout",
     "output_type": "stream",
     "text": [
      "3,029,673 hashes/s\n"
     ]
    }
   ],
   "source": [
    "import time, hashlib, os\n",
    "\n",
    "def sha256_rate(trials=1_000_000, pwlen=8, saltlen=8):\n",
    "    pwd = os.urandom(pwlen); salt = os.urandom(saltlen)\n",
    "    t0 = time.perf_counter()\n",
    "    for _ in range(trials):\n",
    "        hashlib.sha256(salt + pwd).digest()\n",
    "    return trials / (time.perf_counter() - t0)\n",
    "\n",
    "R = sha256_rate()\n",
    "print(f\"{R:,.0f} hashes/s\")"
   ]
  },
  {
   "cell_type": "code",
   "execution_count": 19,
   "id": "811e856a",
   "metadata": {},
   "outputs": [],
   "source": [
    "from crack_hash import hex_passwds, hlist, salt_passwds, shlist, mixed_hlist, mixed_shlist\n",
    "\n",
    "def crack_time(D, N, R, salt_bytes=0, same_salt=True):\n",
    "    # Returns worst-case time to cover the needed work (seconds)\n",
    "    if salt_bytes == 0:\n",
    "        return D / R                      # unsalted: one pass finds all matches\n",
    "    if same_salt:\n",
    "        return (2**(8*salt_bytes)) * D / R    # same salt for all hashes. 2^8 tries per byte. For n bytes, 2^(8*n)\n",
    "    # different salt per hash\n",
    "    return (2**(8*salt_bytes)) * D * N / R    # this case we gotta multiply it for N as well (number of hashes to find)\n",
    "\n",
    "# Example usage (fill D, N from your data)\n",
    "D = len(hex_passwds)   # or your keyspace size\n",
    "N = len(hlist)\n",
    "\n",
    "\n"
   ]
  },
  {
   "cell_type": "markdown",
   "id": "ec3b3d8f",
   "metadata": {},
   "source": [
    "- **Cracking this set of passwords without salt**"
   ]
  },
  {
   "cell_type": "code",
   "execution_count": 20,
   "id": "5351f6cb",
   "metadata": {},
   "outputs": [
    {
     "name": "stdout",
     "output_type": "stream",
     "text": [
      "Unsalted: 6.6013726199889795e-06 s\n"
     ]
    }
   ],
   "source": [
    "print(f\"Unsalted: {crack_time(D, N, R)} s\")\n",
    "\n",
    "# We can admit that this is virtually instantaneous. It is 6 orders of magnitude less than 1 second approximately."
   ]
  },
  {
   "cell_type": "markdown",
   "id": "3ad070a2",
   "metadata": {},
   "source": [
    "- **Cracking this set of passwords with the same 1 byte salt, where all hashes use the same salt**"
   ]
  },
  {
   "cell_type": "code",
   "execution_count": 21,
   "id": "71398cdd",
   "metadata": {},
   "outputs": [
    {
     "name": "stdout",
     "output_type": "stream",
     "text": [
      "Same 1-byte salt (known): 0.0016899513907171787 s\n"
     ]
    }
   ],
   "source": [
    "print(\"Same 1-byte salt (known):\", crack_time(D, N, R, salt_bytes=1, same_salt=True), \"s\")\n",
    "\n",
    "# It is a lot longer that the previous one, but still very small (around 0.002s in my machine)."
   ]
  },
  {
   "cell_type": "markdown",
   "id": "dec1edc2",
   "metadata": {},
   "source": [
    "- **Cracking this set of passwords with the same 8 byte salt, where all hashes use the same salt**"
   ]
  },
  {
   "cell_type": "code",
   "execution_count": 22,
   "id": "87949db4",
   "metadata": {},
   "outputs": [
    {
     "name": "stdout",
     "output_type": "stream",
     "text": [
      "Same 8-byte salt (known): 121773831256130.2 s\n",
      "Which is approximately: 1409419343.24 days\n",
      "Or approximately: 3861422.86 years\n",
      "Or approximately: 3861.42 milleniums\n"
     ]
    }
   ],
   "source": [
    "time_taken = crack_time(D, N, R, salt_bytes=8, same_salt=True)\n",
    "print(\"Same 8-byte salt (known):\", time_taken, \"s\")\n",
    "\n",
    "time_days = time_taken / (60*60*24)\n",
    "print(f\"Which is approximately: {time_days:.2f} days\")\n",
    "\n",
    "time_years = time_days / 365\n",
    "print(f\"Or approximately: {time_years:.2f} years\")\n",
    "\n",
    "time__milleniums = time_years / 1000\n",
    "print(f\"Or approximately: {time__milleniums:.2f} milleniums\")\n",
    "\n",
    "#This is absolutely impractical. We are talking about multiple years to try all combinations in the worst case."
   ]
  },
  {
   "cell_type": "markdown",
   "id": "462ff5f8",
   "metadata": {},
   "source": [
    "- **Cracking this set of passwords with the same 8 byte salt, where all hashes use different salts**"
   ]
  },
  {
   "cell_type": "code",
   "execution_count": 23,
   "id": "3377169d",
   "metadata": {},
   "outputs": [
    {
     "name": "stdout",
     "output_type": "stream",
     "text": [
      "8-byte salt, different per hash (known): 2435476625122604.0 s\n",
      "Which is approximately: 77228457.16 years\n",
      "Or approximately: 77228.46 milleniums\n"
     ]
    }
   ],
   "source": [
    "time = crack_time(D, N, R, salt_bytes=8, same_salt=False)\n",
    "print(\"8-byte salt, different per hash (known):\", time, \"s\")\n",
    "time_years = time / (60*60*24*365)\n",
    "print(f\"Which is approximately: {time_years:.2f} years\")\n",
    "time__milleniums = time_years / 1000\n",
    "print(f\"Or approximately: {time__milleniums:.2f} milleniums\")\n",
    "#This is even more impractical. We are talking about multiple milleniums to try all combinations in the worst case.\n"
   ]
  },
  {
   "cell_type": "markdown",
   "id": "8c8cb503",
   "metadata": {},
   "source": [
    "## Question 3\n",
    "\n",
    "Following the steps given in this respective question. I downloaded 2 images .jpeg images with less than 64kb of space. Proceeded to use the tool and generated two pdf files. These files are said to have the same hash value for **SHA-1**. We'll test this with **OpenSSL**\n",
    "\n",
    "Let's execute the following commands (you need to be located in the /images_q3/sha/ subdirectory).\n",
    "\n",
    "For the first file:\n",
    "\n",
    "```bash\n",
    "openssl sha1 a.pdf\n",
    "\n",
    "SHA1(a.pdf)= 2c64bc231817a1834ed4c371d44191a24a3d57f3\n",
    "```\n",
    "For the second file:\n",
    "\n",
    "```bash\n",
    "openssl sha1 b.pdf\n",
    "\n",
    "SHA1(b.pdf)= 2c64bc231817a1834ed4c371d44191a24a3d57f3\n",
    "```\n",
    "\n",
    "So, in fact, these PDFs have the exact same hash value for SHA-1 function.\n",
    "\n",
    "\n",
    "Now, let's get an overview about the **SHA-1 collision attack** paper by the SHAttered group.\n",
    "\n",
    "First, in a nutshell, this attack is based on (for 3 colliding messages) to find/generate a difference in the second block pair that cancels out the difference initially caused by the first block. This leads again to identical chaining values and hence a collision.\n",
    "\n",
    "It is employed *differential paths* to describe precisely the differences in state words **and** message words and of how these differences should propagate through the **80 steps** of the **SHA-1 hash function**.\n",
    "\n",
    "This is done by modifying message words and thus directly influencing the next 16 state words (have in mind that the first 5 states are fixes by the **chaining value**).\n",
    "\n",
    "The key for the solution to this, is the concept of *local collisions*, where any state bit difference introduced is to be canceled in the next 5 steps using correction message bit difference.\n",
    "\n",
    "To ensure evetr message word but differences are compatible with the linea message expansion though, it is used a *Disturbance Vector (DV)*, that, to sum it up, it is a correctly expanded message itself, but where every \"1\" bit marks the start of a **local collision**.\n",
    "\n",
    "It's utterly important the selection of a good disturbance vector. That's why the main reason of using two blocks pair instead of one, this choice alleviates a restriction of this vector itself which is that there are no state differences after the last step.\n",
    "\n",
    "Thanks to Wang et al, this was solved. Crafting the **tailored differential path** that over the first 16 steps connects the input chaining value differences to the local collision differences over the remaining steps.\n",
    "\n",
    "So, it's necessary to choose a good disturbance vector, then for each near-collision attack craft a non-linear differential path, determine a system of equation over all steps and finally find a solution in the form if a near-collision message block pair. Important to know is that one can only craft the non-linear path for the second near-collision attack once the caining values resulting from the first block pair are known."
   ]
  }
 ],
 "metadata": {
  "kernelspec": {
   "display_name": "SageMath 10.7",
   "language": "sage",
   "name": "sagemath"
  },
  "language_info": {
   "codemirror_mode": {
    "name": "ipython",
    "version": 3
   },
   "file_extension": ".py",
   "mimetype": "text/x-python",
   "name": "python",
   "nbconvert_exporter": "python",
   "pygments_lexer": "ipython3",
   "version": "3.12.11"
  }
 },
 "nbformat": 4,
 "nbformat_minor": 5
}
