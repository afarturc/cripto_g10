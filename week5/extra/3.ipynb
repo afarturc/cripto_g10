{
 "cells": [
  {
   "cell_type": "markdown",
   "id": "421ad9f4",
   "metadata": {},
   "source": [
    "# 1\n",
    "\n",
    "We need to make two calls to the encryption oracle to succeed in the IND-CPA experiment.\n",
    "Why? The cipher has a critical flaw: a global state variable x that never resets between encryptions. It gets initialized once with gen() and updates sequentially with each __lfsr() call. This means the keystream is predictable across multiple encryptions.\n",
    "Attack:\n",
    "\n",
    "- Make one call to advance the LFSR state\n",
    "- After receiving the challenge ciphertext, make a second call to encrypt one of our chosen messages\n",
    "- Since the state continues from where it left off, this second encryption uses the same keystream as the challenge\n",
    "- We can compare and determine which message was encrypted with 100% accuracy"
   ]
  },
  {
   "cell_type": "markdown",
   "id": "d68339cf",
   "metadata": {},
   "source": [
    "# 2\n",
    "\n",
    "\n",
    "The attacker works as follows:\n",
    "\n",
    "- Choose two different messages: m₀ = \"AAA...\" and m₁ = \"BBB...\" (same length)\n",
    "- First oracle call (before challenge): Encrypt any message (e.g., m₀) to advance the LFSR state\n",
    "- Receive challenge ciphertext: The challenger encrypts either m₀ or m₁\n",
    "- Second oracle call (after challenge): Encrypt m₀ again\n",
    "- Decision: Since the LFSR state advances deterministically without resetting, the second encryption of m₀ uses the exact same keystream that was used for the challenge ciphertext\n",
    "\n",
    "    -  If the second encryption matches the challenge → output \"m₀\"\n",
    "    -  If they don't match → output \"m₁\"\n",
    "\n",
    "\n",
    "\n",
    "Result: The attacker wins with 100% probability (instead of 50% for a secure scheme), breaking IND-CPA security."
   ]
  }
 ],
 "metadata": {
  "language_info": {
   "name": "python"
  }
 },
 "nbformat": 4,
 "nbformat_minor": 5
}
