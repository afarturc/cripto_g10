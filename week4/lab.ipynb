{
 "cells": [
  {
   "cell_type": "markdown",
   "id": "49911411",
   "metadata": {},
   "source": [
    "### 3"
   ]
  },
  {
   "cell_type": "markdown",
   "id": "cb6a24b6",
   "metadata": {},
   "source": [
    "nxt1me@pop-os:~/Desktop/Faculdade/1 º - Semestre/Criptografia/Trabalhos práticos/Trabalho3$ python3 2.py encrypt mensagem.txt mensagemout dsjkajkdadsadsjkajkdadsa\n",
    "Operation completed: 'mensagem.txt' -> 'mensagemout'\n",
    "------------------------\n",
    "\n",
    "nxt1me@pop-os:~/Desktop/Faculdade/1 º - Semestre/Criptografia/Trabalhos práticos/Trabalho3$ echo -n \"dsjkajkdadsaxxxx\" | xxd -p -c 256\n",
    "64736a6b616a6b646164736178787878\n",
    "\n",
    "------------------------\n",
    "nxt1me@pop-os:~/Desktop/Faculdade/1 º - Semestre/Criptografia/Trabalhos práticos/Trabalho3$ openssl enc -rc4 -d -in mensagemout -out openssl_decrypted.txt -nosalt -K 64736a6b616a6b646164736178787878 -provider legacy\n",
    "\n",
    "--------------------\n",
    "\n",
    "Encrypt with openssl and decrypt with our code:\n",
    "\n",
    "Key:\n",
    "\n",
    "echo -n \"dsjkajkdadsaxxxx\" | xxd -p -c 256\n",
    "\n",
    "openssl enc -rc4 -in opensslmessage.txt -out openssl_encrypted.rc4 -nosalt -K 64736a6b616a6b646164736178787878 -provider legacy\n",
    "\n",
    "\n",
    "python 2.py decrypt openssl_encrypted.rc4 python_decrypted.txt dsjkajkdadsaxxxx\n",
    "\n",
    "\n"
   ]
  },
  {
   "cell_type": "markdown",
   "id": "7f242263",
   "metadata": {},
   "source": [
    "### 4"
   ]
  },
  {
   "cell_type": "code",
   "execution_count": null,
   "id": "70b7f4df",
   "metadata": {
    "vscode": {
     "languageId": "plaintext"
    }
   },
   "outputs": [],
   "source": [
    "fixed values\n",
    "KEY=000102030405060708090a0b0c0d0e0f101112131415161718191a1b1c1d1e1f\n",
    "NONCE=000102030405060708090a0b0c\n",
    "\n",
    "# First encryption\n",
    "openssl enc -chacha20 -in chacha20plaintext.txt -out encrypted1.bin -K $KEY -iv $NONCE\n",
    "\n",
    "# Second encryption\n",
    "openssl enc -chacha20 -in chacha20plaintext.txt -out encrypted2.bin -K $KEY -iv $NONCE\n",
    "\n",
    "nxt1me@pop-os:~/Desktop/Faculdade/1 º - Semestre/Criptografia/Trabalhos práticos/Trabalho3/ChaCha20$ cmp encrypted1.bin encrypted2.bin && echo \"MATCH\" || echo \"DIFFER\"\n",
    "MATCH"
   ]
  },
  {
   "cell_type": "markdown",
   "id": "02e11fac",
   "metadata": {},
   "source": [
    "### 5 "
   ]
  },
  {
   "cell_type": "markdown",
   "id": "56ec312e",
   "metadata": {},
   "source": [
    "Stream ciphers like RC4 and ChaCha20 (and AES-CTR) produce ciphertexts that are exactly the same size as the plaintext, with no padding required.\n",
    "\n",
    "Block cipher modes like AES-CBC may produce longer ciphertexts than the plaintext because they require padding to fill complete blocks."
   ]
  }
 ],
 "metadata": {
  "language_info": {
   "name": "python"
  }
 },
 "nbformat": 4,
 "nbformat_minor": 5
}
