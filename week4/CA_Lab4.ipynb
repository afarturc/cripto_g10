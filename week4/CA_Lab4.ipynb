{
 "cells": [
  {
   "cell_type": "markdown",
   "id": "641c28cf",
   "metadata": {},
   "source": [
    "# Criptografia Aplicada - Laboratorial #4"
   ]
  },
  {
   "cell_type": "markdown",
   "id": "132a0e72",
   "metadata": {},
   "source": [
    "## Exercício 1\n",
    "\n",
    "- x³ + x + 1\n",
    "- x⁴ + x + 1\n",
    "- x⁴ + x³ + x² 1\n",
    "\n",
    "### Exercício 1.1\n",
    "\n",
    "**x³ + x + 1**\n",
    "\n",
    "R0 = 0111 -> R1 = 1010 -> R2 = 1110 -> R3 = 1001 -> R4 = 0011 -> R5 = 0111 -> R6 = 1110 -> \n",
    "-> R7 = 1101 -> R8 = 1010\n",
    "\n",
    "Como o polinómio é de grau 3, o período máximo esperado é 7, o qual aconteceu.\n",
    "Podemos concluir que o polinómio é primitivo.\n",
    "\n",
    "**x⁴ + x + 1**\n",
    "\n",
    "R0 = 0001 -> R1 = 0011 -> R2 = 0111 -> R3 = 1111 -> R4 = 1110 -> R5 = 1101 -> R6 = 1010 ->\n",
    "-> R7 = 0101 -> R8 = 1011 -> R9 = 0110 -> R10 = 1100 -> R11 = 1001 -> R12 = 0010 -> \n",
    "-> R13 = 0100 -> R14 = 1000\n",
    "\n",
    "Para este polinómio, também podemos concluir que é primitivo. Isto já que é de grau 4, e tem um periodo igual a 15, o que é esperado se for primitivo.\n",
    "\n",
    "**x⁴ + x³ + x² 1**\n",
    "\n",
    "R0 = 0001 -> R1 = 0010 -> R2 = 0101 -> R3 = 1011 -> R4 = 0110 -> R5 = 1100 -> R6 = 1000 -> R7 = 0001\n",
    "\n",
    "R0 = 0011 -> R1 = 0111 -> R2 = 1110 -> R3 = 1101 -> R4 = 1010 -> R5 = 0100 -> R6 = 1001 -> R7 = 0011\n",
    "\n",
    "R0 = 0111 -> R1 = 1110 (o estado 1110 já aparece no segundo ciclo mostrado em cima).\n",
    "\n",
    "Para este caso, podemos concluir que o polinómio **não** é primitivo. Isto já que é de grau 4 e o seu período é de 7.\n",
    "\n",
    "### Exercício 1.2\n",
    "\n",
    "O melhor polinómio para o LFSR deve de ser primitivo, o que nos deixa entre e o primeiro e segundo polinómio. No entanto, também sabemos que enquanto maior o período, melhor o polinómio para o LFSR. Logo, o segundo polinómio **x⁴ + x + 1** é o melhor.\n",
    "\n",
    "### Exercício 1.3 \n"
   ]
  },
  {
   "cell_type": "code",
   "execution_count": 41,
   "id": "af4d27a9",
   "metadata": {},
   "outputs": [
    {
     "name": "stdout",
     "output_type": "stream",
     "text": [
      "Irredutibilidade de x^3 + x + 1: ✓ OK\n",
      "Irredutibilidade de x^4 + x + 1: ✓ OK\n",
      "Irredutibilidade de x^4 + x^3 + x^2 + 1: ✗ FAIL\n"
     ]
    }
   ],
   "source": [
    "R.<x> = GF(2)[]\n",
    "p1 = x^3 + x + 1\n",
    "p2 = x^4 + x + 1\n",
    "p3 = x^4 + x^3 + x^2 + 1\n",
    "\n",
    "p_array = [p1, p2, p3]\n",
    "\n",
    "for p in p_array:\n",
    "    print(f\"Irredutibilidade de {p}: {'✓ OK' if p.is_irreducible() else '✗ FAIL'}\")\n"
   ]
  },
  {
   "cell_type": "markdown",
   "id": "17a220d3",
   "metadata": {},
   "source": [
    "Podemos concluir então que os dois primeiros polínomios são irredutíveis, enquanto o terceiro não é.\n",
    "\n",
    "Logo, podemos também concluir que são polinómios primitivos."
   ]
  },
  {
   "cell_type": "markdown",
   "id": "75e490f0",
   "metadata": {},
   "source": [
    "## Exercício 2\n",
    "\n",
    "Eis a implementação do RC4 em Python:"
   ]
  },
  {
   "cell_type": "code",
   "execution_count": 31,
   "id": "6e5b878e",
   "metadata": {},
   "outputs": [],
   "source": [
    "import operator\n",
    "\n",
    "def key_scheduling(key):\n",
    "    \"Inicializa e mistura o estado interno com base na chave (KSA)\"\n",
    "    \n",
    "    sched = [i for i in range(0, 256)]\n",
    "    \n",
    "    i = 0\n",
    "    for j in range(0, 256):\n",
    "        i = (i + sched[j] + key[j % len(key)]) % 256\n",
    "        \n",
    "        tmp = sched[j]\n",
    "        sched[j] = sched[i]\n",
    "        sched[i] = tmp\n",
    "        \n",
    "    return sched\n",
    "    \n",
    "\n",
    "def stream_generation(sched):\n",
    "    \"Gera bytes do keystream de forma infinita (PRGA)\"\n",
    "    \n",
    "    i = 0\n",
    "    j = 0\n",
    "    while True:\n",
    "        i = (1 + i) % 256\n",
    "        j = (sched[i] + j) % 256\n",
    "        \n",
    "        tmp = sched[j]\n",
    "        sched[j] = sched[i]\n",
    "        sched[i] = tmp\n",
    "        \n",
    "        yield sched[(sched[i] + sched[j]) % 256]        \n",
    "\n",
    "\n",
    "def rc4_transform_file(in_path, out_path, key, encoding='utf-8', chunk_size=65536):\n",
    "    \"Mesma função para cifrar e decifrar arquivos com RC4\"\n",
    "    \n",
    "    # Normalização da chave: aceita str (hex ou texto) e bytes-like\n",
    "    if isinstance(key, str):\n",
    "        ks = key.strip()\n",
    "        is_hex = (len(ks) % 2 == 0) and all(c in '0123456789abcdefABCDEF' for c in ks)\n",
    "        if is_hex:\n",
    "            key_bytes = bytes.fromhex(ks)\n",
    "        else:\n",
    "            key_bytes = ks.encode(encoding)\n",
    "    else:\n",
    "        key_bytes = bytes(key)\n",
    "    if not key_bytes:\n",
    "        raise ValueError(\"Key must not be empty\")\n",
    "\n",
    "    sched = key_scheduling(list(key_bytes))\n",
    "    key_stream = stream_generation(sched)\n",
    "\n",
    "    with open(in_path, 'rb') as fin, open(out_path, 'wb') as fout:\n",
    "        while True:\n",
    "            chunk = fin.read(chunk_size)\n",
    "            if not chunk:\n",
    "                break\n",
    "            out = bytearray(len(chunk))\n",
    "            for i, b in enumerate(chunk):\n",
    "                out[i] = operator.xor(b, next(key_stream))\n",
    "            fout.write(out)"
   ]
  },
  {
   "cell_type": "markdown",
   "id": "c40c8823",
   "metadata": {},
   "source": [
    "Vamos agora gerar uma chave e encriptar o nosso ficheiro chamado **teste.txt**, ubicado no diretório **ficheiros_teste**. O ficheiro encriptado é **teste.txt.enc**\n",
    "\n",
    "A chave respetiva é **a3c1f28d5b0e4f9a7c21d6e0b58c13f2**"
   ]
  },
  {
   "cell_type": "code",
   "execution_count": 32,
   "id": "300ca3c8",
   "metadata": {},
   "outputs": [],
   "source": [
    "key = \"a3c1f28d5b0e4f9a7c21d6e0b58c13f2\"\n",
    "directory = \"ficheiros_teste/\"\n",
    "encrypted_file = directory + \"teste.txt.enc\"\n",
    "file = directory + \"teste.txt\"\n",
    "\n",
    "\n",
    "rc4_transform_file(file, encrypted_file, key)"
   ]
  },
  {
   "cell_type": "markdown",
   "id": "326ea203",
   "metadata": {},
   "source": [
    "## Exercício 3"
   ]
  },
  {
   "cell_type": "markdown",
   "id": "9105f881",
   "metadata": {},
   "source": [
    "Para este exercício usaremos a linha de comandos.\n",
    "\n",
    "Para desencriptar usaremos o seguinte:\n",
    "\n",
    "```bash\n",
    "openssl enc -rc4 -provider legacy -provider default -d -in ficheiros_teste/teste.txt.enc -out ficheiros_teste/teste_dec_openssl.txt -K a3c1f28d5b0e4f9a7c21d6e0b58c13f2 -nosalt -nopad\n",
    "```\n",
    "\n",
    "Como podemos apreciar, o ficheiro gerado é igual ao ficheiro que foi inicialmente encriptado com o script de Python."
   ]
  },
  {
   "cell_type": "markdown",
   "id": "018415eb",
   "metadata": {},
   "source": [
    "Para a segunda parte do exercício, será encriptado o ficheiro **teste.txt** com OpenSSL e desencriptado com o script de Python e ver se de facto as implementações são compatíveis.\n",
    "\n",
    "Primeiro será executado o comando:\n",
    "\n",
    "```bash\n",
    "openssl enc -rc4 -provider legacy -provider default -in ficheiros_teste/teste.txt -out ficheiros_teste/teste_openssl.enc -K a3c1f28d5b0e4f9a7c21d6e0b58c13f2 -nosalt -nopad\n",
    "```\n",
    "\n",
    "Agora, vamos ver se conseguimos desencriptá-lo"
   ]
  },
  {
   "cell_type": "code",
   "execution_count": 35,
   "id": "483fceed",
   "metadata": {},
   "outputs": [],
   "source": [
    "key = \"a3c1f28d5b0e4f9a7c21d6e0b58c13f2\"\n",
    "directory = \"ficheiros_teste/\"\n",
    "encrypted_file = directory + \"teste_openssl.enc\"\n",
    "decrypted_file = directory + \"teste_dec_script.txt\"\n",
    "\n",
    "\n",
    "rc4_transform_file(encrypted_file, decrypted_file, key)"
   ]
  },
  {
   "cell_type": "markdown",
   "id": "50c707bb",
   "metadata": {},
   "source": [
    "Se verificarmos os conteúdos dos ficheiros correspondentes, concluimos que são compatíveis."
   ]
  },
  {
   "cell_type": "markdown",
   "id": "60c9865c",
   "metadata": {},
   "source": [
    "## Exercício 4\n",
    "\n",
    "Para isto, vamos executar este comando para encriptar:\n",
    "\n",
    "```bash\n",
    "openssl enc -chacha20 -in ficheiros_teste/teste.txt -out ficheiros_teste/teste_chacha1.bin -K 1234567890abcdef1234567890abcdef1234567890abcdef1234567890abcdef -iv 000000000001234567890abc -nosalt -nopad\n",
    "```\n",
    "\n",
    "Vamos executá-lo de novo para criar outro ficheiro encriptado apartir do mesmo ficheiro:\n",
    "\n",
    "```bash\n",
    "openssl enc -chacha20 -in ficheiros_teste/teste.txt -out ficheiros_teste/teste_chacha2.bin -K 1234567890abcdef1234567890abcdef1234567890abcdef1234567890abcdef -iv 000000000001234567890abc -nosalt -nopad\n",
    "```\n",
    "\n",
    "\n",
    "Para ver a diferencia de ambos, executamos o seguinte:\n",
    "\n",
    "```bash\n",
    "diff ficheiros_teste/teste_chacha1.bin ficheiros_teste/teste_chacha2.bin\n",
    "```\n",
    "\n",
    "O último comando quando é executado não retorna nada. É exatamente o comportamento esperado já que o comando **diff** não retorna nada se os ficheiros são idênticos.\n",
    "\n",
    "O **ChaCha20** é um cifrador **determinístico**. Ou seja, sempre que for usada a mesma chave K e o mesmo Nonce iv, é sempre gerada a mesma keystream.\n",
    "\n",
    "Como é usado o mesmo \"plaintext\" e a mesma keystream, é normal e esperado ter o mesmo output.\n",
    "\n",
    "É por isto que nunca devemos reutilizar a mesma combinação de **chave + nonce**."
   ]
  },
  {
   "cell_type": "markdown",
   "id": "e2d5e129",
   "metadata": {},
   "source": [
    "## Exercício 5\n",
    "Stream cipher como RC4 e ChaCha20 (e AES-CTR) produzem ciphertexts que têm exatamente o mesmo tamanho do plaintext, sem padding necessário.\n",
    "\n",
    "Block Cipher modes como o AES-CBC podem produzir ciphertexts mais longos que aquele do plaintext porque necessitam de padding para preencher o blocos completamente\n"
   ]
  }
 ],
 "metadata": {
  "kernelspec": {
   "display_name": "SageMath 10.7",
   "language": "sage",
   "name": "sagemath"
  },
  "language_info": {
   "codemirror_mode": {
    "name": "ipython",
    "version": 3
   },
   "file_extension": ".py",
   "mimetype": "text/x-python",
   "name": "python",
   "nbconvert_exporter": "python",
   "pygments_lexer": "ipython3",
   "version": "3.12.11"
  }
 },
 "nbformat": 4,
 "nbformat_minor": 5
}
