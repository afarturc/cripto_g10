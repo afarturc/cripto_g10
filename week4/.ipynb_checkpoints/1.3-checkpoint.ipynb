{
 "cells": [
  {
   "cell_type": "code",
   "execution_count": 2,
   "id": "8c4e2484",
   "metadata": {},
   "outputs": [
    {
     "name": "stdout",
     "output_type": "stream",
     "text": [
      "x^3 + x + 1 é irredutível? True\n",
      "x^4 + x + 1 é irredutível? True\n",
      "x^3 + x + 1 é irredutível? False\n"
     ]
    }
   ],
   "source": [
    "R.<x> = GF(2)[]\n",
    "\n",
    "p1 = x^3 + x + 1\n",
    "\n",
    "p2 = x^4 + x + 1\n",
    "\n",
    "p3 = x^4 + x^3 + x^2 + 1\n",
    "\n",
    "\n",
    "print(\"x^3 + x + 1 é irredutível?\", p1.is_irreducible())\n",
    "\n",
    "print(\"x^4 + x + 1 é irredutível?\", p2.is_irreducible())\n",
    "\n",
    "print(\"x^3 + x + 1 é irredutível?\", p3.is_irreducible())"
   ]
  },
  {
   "cell_type": "code",
   "execution_count": null,
   "id": "588432fe",
   "metadata": {},
   "outputs": [],
   "source": []
  }
 ],
 "metadata": {
  "kernelspec": {
   "display_name": "SageMath 9.5",
   "language": "sage",
   "name": "sagemath"
  },
  "language_info": {
   "codemirror_mode": {
    "name": "ipython",
    "version": 3
   },
   "file_extension": ".py",
   "mimetype": "text/x-python",
   "name": "python",
   "nbconvert_exporter": "python",
   "pygments_lexer": "ipython3",
   "version": "3.10.12"
  }
 },
 "nbformat": 4,
 "nbformat_minor": 5
}
